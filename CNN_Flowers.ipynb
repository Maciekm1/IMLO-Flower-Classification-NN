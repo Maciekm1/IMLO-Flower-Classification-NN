{
 "cells": [
  {
   "cell_type": "code",
   "execution_count": 5,
   "metadata": {},
   "outputs": [],
   "source": [
    "import torch\n",
    "import scipy\n",
    "import numpy as np\n",
    "from torch import nn\n",
    "import torch.nn.functional as F\n",
    "from torch.utils.data import DataLoader\n",
    "from torchvision import datasets, transforms\n",
    "from torchvision.utils import make_grid\n",
    "#from torchmetrics import Precision, Recall, F1Score\n",
    "import matplotlib.pyplot as plt"
   ]
  },
  {
   "cell_type": "code",
   "execution_count": 6,
   "metadata": {},
   "outputs": [
    {
     "name": "stdout",
     "output_type": "stream",
     "text": [
      "Using device: mps\n"
     ]
    }
   ],
   "source": [
    "device = (\n",
    "    'cuda:0'\n",
    "    if torch.cuda.is_available()\n",
    "    else 'mps'\n",
    "    if torch.backends.mps.is_available()\n",
    "    else 'cpu'\n",
    "    )\n",
    "print(\"Using device:\", device)"
   ]
  },
  {
   "cell_type": "code",
   "execution_count": 7,
   "metadata": {},
   "outputs": [
    {
     "name": "stdout",
     "output_type": "stream",
     "text": [
      "tensor([0.4330, 0.3819, 0.2964]) tensor([0.2545, 0.2044, 0.2163])\n"
     ]
    }
   ],
   "source": [
    "# mean and std of the images\n",
    "transform = transforms.Compose([\n",
    "    transforms.Resize((112, 112)),\n",
    "    transforms.ToTensor()\n",
    "])\n",
    "train_data = datasets.Flowers102(root='/Users/maciek/cnn_data', split = 'train', download=True, transform=transform)\n",
    "train_load = DataLoader(train_data, batch_size = 10, shuffle = False)\n",
    "\n",
    "# this function gives the approximate mean and std of the dataset\n",
    "def mean_std(loader):\n",
    "  mean = 0\n",
    "  std = 0\n",
    "  image_count = 0\n",
    "\n",
    "  for images, _ in loader:\n",
    "    image_count_batch = images.size(0)\n",
    "    images = images.view(image_count_batch, images.size(1), -1)\n",
    "    mean += images.mean(2).sum(0)\n",
    "    std += images.std(2).sum(0)\n",
    "    image_count += image_count_batch\n",
    "\n",
    "  mean /= image_count\n",
    "  std /= image_count\n",
    "\n",
    "  return mean, std\n",
    "\n",
    "mean, std = mean_std(train_load)\n",
    "print(mean, std)"
   ]
  },
  {
   "cell_type": "code",
   "execution_count": 8,
   "metadata": {},
   "outputs": [],
   "source": [
    "train_transform = transforms.Compose([\n",
    "    transforms.Resize((112, 112)),\n",
    "    transforms.RandomHorizontalFlip(),\n",
    "    transforms.RandomVerticalFlip(),\n",
    "    transforms.RandomRotation(20),\n",
    "    transforms.ColorJitter(brightness=0.2, contrast=0.2, saturation=0.2, hue=0.1),\n",
    "    transforms.RandomPerspective(distortion_scale=0.3, p=0.4),\n",
    "    transforms.ToTensor(),\n",
    "    transforms.Normalize(torch.Tensor(mean), torch.Tensor(std))\n",
    "])\n",
    "\n",
    "test_transform = transforms.Compose([\n",
    "    transforms.Resize((112, 112)),\n",
    "    transforms.ToTensor(),\n",
    "    transforms.Normalize(torch.Tensor(mean), torch.Tensor(std))\n",
    "])\n",
    "train_data = datasets.Flowers102(root='/Users/maciek/cnn_data', split = 'train', download=True, transform=train_transform)\n",
    "val_data = datasets.Flowers102(root='/Users/maciek/cnn_data', split = 'val', download=True, transform=test_transform)\n",
    "test_data = datasets.Flowers102(root='/Users/maciek/cnn_data', split = 'test', download=True, transform=test_transform)"
   ]
  },
  {
   "cell_type": "code",
   "execution_count": 9,
   "metadata": {},
   "outputs": [
    {
     "data": {
      "text/plain": [
       "Dataset Flowers102\n",
       "    Number of datapoints: 1020\n",
       "    Root location: /Users/maciek/cnn_data\n",
       "    split=train\n",
       "    StandardTransform\n",
       "Transform: Compose(\n",
       "               Resize(size=(112, 112), interpolation=bilinear, max_size=None, antialias=True)\n",
       "               RandomHorizontalFlip(p=0.5)\n",
       "               RandomVerticalFlip(p=0.5)\n",
       "               RandomRotation(degrees=[-20.0, 20.0], interpolation=nearest, expand=False, fill=0)\n",
       "               ColorJitter(brightness=(0.8, 1.2), contrast=(0.8, 1.2), saturation=(0.8, 1.2), hue=(-0.1, 0.1))\n",
       "               RandomPerspective(p=0.4)\n",
       "               ToTensor()\n",
       "               Normalize(mean=tensor([0.4330, 0.3819, 0.2964]), std=tensor([0.2545, 0.2044, 0.2163]))\n",
       "           )"
      ]
     },
     "execution_count": 9,
     "metadata": {},
     "output_type": "execute_result"
    }
   ],
   "source": [
    "train_data"
   ]
  },
  {
   "cell_type": "code",
   "execution_count": 10,
   "metadata": {},
   "outputs": [
    {
     "data": {
      "text/plain": [
       "Dataset Flowers102\n",
       "    Number of datapoints: 1020\n",
       "    Root location: /Users/maciek/cnn_data\n",
       "    split=val\n",
       "    StandardTransform\n",
       "Transform: Compose(\n",
       "               Resize(size=(112, 112), interpolation=bilinear, max_size=None, antialias=True)\n",
       "               ToTensor()\n",
       "               Normalize(mean=tensor([0.4330, 0.3819, 0.2964]), std=tensor([0.2545, 0.2044, 0.2163]))\n",
       "           )"
      ]
     },
     "execution_count": 10,
     "metadata": {},
     "output_type": "execute_result"
    }
   ],
   "source": [
    "val_data"
   ]
  },
  {
   "cell_type": "code",
   "execution_count": 11,
   "metadata": {},
   "outputs": [
    {
     "data": {
      "text/plain": [
       "Dataset Flowers102\n",
       "    Number of datapoints: 6149\n",
       "    Root location: /Users/maciek/cnn_data\n",
       "    split=test\n",
       "    StandardTransform\n",
       "Transform: Compose(\n",
       "               Resize(size=(112, 112), interpolation=bilinear, max_size=None, antialias=True)\n",
       "               ToTensor()\n",
       "               Normalize(mean=tensor([0.4330, 0.3819, 0.2964]), std=tensor([0.2545, 0.2044, 0.2163]))\n",
       "           )"
      ]
     },
     "execution_count": 11,
     "metadata": {},
     "output_type": "execute_result"
    }
   ],
   "source": [
    "test_data"
   ]
  },
  {
   "cell_type": "code",
   "execution_count": 12,
   "metadata": {},
   "outputs": [],
   "source": [
    "batch_size = 64\n",
    "train_loader = DataLoader(train_data, batch_size = batch_size, shuffle = True)\n",
    "val_loader = DataLoader(val_data, batch_size = batch_size, shuffle = False)\n",
    "test_loader = DataLoader(test_data, batch_size = batch_size, shuffle = False)"
   ]
  },
  {
   "cell_type": "code",
   "execution_count": 13,
   "metadata": {},
   "outputs": [
    {
     "name": "stdout",
     "output_type": "stream",
     "text": [
      "CNN(\n",
      "  (conv1): Conv2d(3, 64, kernel_size=(3, 3), stride=(1, 1))\n",
      "  (batch_norm1): BatchNorm2d(64, eps=1e-05, momentum=0.1, affine=True, track_running_stats=True)\n",
      "  (conv2): Conv2d(64, 256, kernel_size=(3, 3), stride=(1, 1))\n",
      "  (batch_norm2): BatchNorm2d(256, eps=1e-05, momentum=0.1, affine=True, track_running_stats=True)\n",
      "  (conv3): Conv2d(256, 512, kernel_size=(3, 3), stride=(1, 1))\n",
      "  (batch_norm3): BatchNorm2d(512, eps=1e-05, momentum=0.1, affine=True, track_running_stats=True)\n",
      "  (conv4): Conv2d(512, 1024, kernel_size=(3, 3), stride=(1, 1))\n",
      "  (batch_norm4): BatchNorm2d(1024, eps=1e-05, momentum=0.1, affine=True, track_running_stats=True)\n",
      "  (conv5): Conv2d(1024, 2048, kernel_size=(3, 3), stride=(1, 1))\n",
      "  (batch_norm5): BatchNorm2d(2048, eps=1e-05, momentum=0.1, affine=True, track_running_stats=True)\n",
      "  (pool): MaxPool2d(kernel_size=2, stride=2, padding=0, dilation=1, ceil_mode=False)\n",
      "  (fc1): Linear(in_features=2048, out_features=1024, bias=True)\n",
      "  (fc2): Linear(in_features=1024, out_features=1024, bias=True)\n",
      "  (drop): Dropout(p=0.6, inplace=False)\n",
      "  (out): Linear(in_features=1024, out_features=102, bias=True)\n",
      ")\n"
     ]
    }
   ],
   "source": [
    "class CNN(nn.Module):\n",
    "    def __init__(self, num_classes):\n",
    "        super(CNN, self).__init__()\n",
    "\n",
    "        self.conv1 = nn.Conv2d(in_channels=3, out_channels=64, kernel_size=3)\n",
    "        self.batch_norm1 = nn.BatchNorm2d(64)\n",
    "        \n",
    "        self.conv2 = nn.Conv2d(in_channels=64, out_channels=256, kernel_size=3)\n",
    "        self.batch_norm2 = nn.BatchNorm2d(256)\n",
    "\n",
    "        self.conv3 = nn.Conv2d(in_channels=256, out_channels=512, kernel_size=3)\n",
    "        self.batch_norm3 = nn.BatchNorm2d(512)\n",
    "\n",
    "        self.conv4 = nn.Conv2d(in_channels=512, out_channels=1024, kernel_size=3)\n",
    "        self.batch_norm4 = nn.BatchNorm2d(1024)\n",
    "\n",
    "        self.conv5 = nn.Conv2d(in_channels=1024, out_channels=2048, kernel_size=3)\n",
    "        self.batch_norm5 = nn.BatchNorm2d(2048)\n",
    "\n",
    "        self.pool = nn.MaxPool2d(2, 2)\n",
    "        #self.avg_pool = nn.AvgPool2d(5, 5)\n",
    "        \n",
    "        self.fc1 = nn.Linear(2048 * 1 * 1, 1024)\n",
    "        self.fc2 = nn.Linear(1024, 1024)\n",
    "        self.drop = nn.Dropout(p=0.6)\n",
    "        \n",
    "        self.out = nn.Linear(1024, num_classes)\n",
    "\n",
    "    \n",
    "    def forward(self, x):\n",
    "        x = F.relu(self.conv1(x))\n",
    "        x = self.batch_norm1(x)\n",
    "        x = self.pool(x)\n",
    "        \n",
    "        x = F.relu(self.conv2(x))\n",
    "        x = self.batch_norm2(x)\n",
    "        x = self.pool(x)\n",
    "\n",
    "        x = F.relu(self.conv3(x))\n",
    "        x = self.batch_norm3(x)\n",
    "        x = self.pool(x)\n",
    "\n",
    "        x = F.relu(self.conv4(x))\n",
    "        x = self.batch_norm4(x)\n",
    "        x = self.pool(x)\n",
    "\n",
    "        x = F.relu(self.conv5(x))\n",
    "        x = self.batch_norm5(x)\n",
    "        x = self.pool(x)\n",
    "        #print(f'Shape before pool: {x.shape}')\n",
    "        #x = self.avg_pool(x)\n",
    "        #print(f'Shape after pool: {x.shape}')\n",
    "\n",
    "        x = x.view(-1, 2048 * 1 * 1)\n",
    "        x = F.relu(self.fc1(x))\n",
    "        x = self.drop(x)\n",
    "        x = F.relu(self.fc2(x))\n",
    "        x = self.drop(x)\n",
    "        x = self.out(x)\n",
    "\n",
    "        return x\n",
    "\n",
    "num_classes = 102  # Number of classes in the Oxford Flowers102 dataset\n",
    "\n",
    "# Create the model\n",
    "torch.manual_seed(41)\n",
    "model = CNN(num_classes).to(device)\n",
    "\n",
    "# Print model summary\n",
    "print(model)"
   ]
  },
  {
   "cell_type": "code",
   "execution_count": 14,
   "metadata": {},
   "outputs": [],
   "source": [
    "# loss function optimizer\n",
    "criterion = nn.CrossEntropyLoss()\n",
    "optimizer = torch.optim.Adam(model.parameters(), lr=0.0001, weight_decay=0.00001) \n",
    "# the smaller the lr the longer its gonna take to train but the more accurate it is"
   ]
  },
  {
   "cell_type": "code",
   "execution_count": 15,
   "metadata": {},
   "outputs": [
    {
     "name": "stdout",
     "output_type": "stream",
     "text": [
      "Epoch 1/300, Train Loss: 4.6495, Val Loss: 4.5976, Val Accuracy: 3.14%\n",
      "Epoch 2/300, Train Loss: 4.5236, Val Loss: 4.4110, Val Accuracy: 7.35%\n",
      "Epoch 3/300, Train Loss: 4.4288, Val Loss: 4.2181, Val Accuracy: 9.61%\n",
      "Epoch 4/300, Train Loss: 4.3195, Val Loss: 4.0652, Val Accuracy: 11.27%\n",
      "Epoch 5/300, Train Loss: 4.2395, Val Loss: 3.9731, Val Accuracy: 12.84%\n",
      "Epoch 6/300, Train Loss: 4.1188, Val Loss: 3.8493, Val Accuracy: 13.43%\n",
      "Epoch 7/300, Train Loss: 4.0570, Val Loss: 3.7534, Val Accuracy: 13.82%\n",
      "Epoch 8/300, Train Loss: 3.9475, Val Loss: 3.6258, Val Accuracy: 14.80%\n",
      "Epoch 9/300, Train Loss: 3.9004, Val Loss: 3.6003, Val Accuracy: 17.25%\n"
     ]
    }
   ],
   "source": [
    "#graph parameters\n",
    "train_list = []\n",
    "val_list = []\n",
    "\n",
    "# Early stopping parameters\n",
    "patience = 7\n",
    "best_loss = np.inf\n",
    "counter = 0\n",
    "\n",
    "# Training loop\n",
    "num_epochs = 300\n",
    "for epoch in range(num_epochs):\n",
    "    model.train()\n",
    "    running_loss = 0.0\n",
    "    for inputs, labels in train_loader:\n",
    "        inputs, labels = inputs.to(device), labels.to(device)\n",
    "        optimizer.zero_grad()  # Zero the parameter gradients\n",
    "        outputs = model(inputs)  # Forward pass\n",
    "        loss = criterion(outputs, labels)  # Calculate the loss\n",
    "        loss.backward()  # Backward pass\n",
    "        optimizer.step()  # Optimize\n",
    "\n",
    "        running_loss += loss.item() * inputs.size(0)\n",
    "\n",
    "    # Calculate average training loss\n",
    "    train_loss = running_loss / len(train_loader.dataset)\n",
    "\n",
    "    # Validation loop\n",
    "    model.eval()\n",
    "    val_loss = 0.0\n",
    "    correct = 0\n",
    "    total = 0\n",
    "    with torch.no_grad():\n",
    "        for inputs, labels in val_loader:\n",
    "            inputs, labels = inputs.to(device), labels.to(device)\n",
    "            outputs = model(inputs)  # Forward pass\n",
    "            loss = criterion(outputs, labels)  # Calculate the loss\n",
    "            val_loss += loss.item() * inputs.size(0)\n",
    "            _, predicted = torch.max(outputs, 1)\n",
    "            total += labels.size(0)\n",
    "            correct += (predicted == labels).sum().item()\n",
    "\n",
    "    # Early stopping logic\n",
    "    if val_loss < best_loss:\n",
    "        best_loss = val_loss\n",
    "        counter = 0\n",
    "    else:\n",
    "        counter += 1\n",
    "        if counter >= patience:\n",
    "            print(f'Early stopping triggered after {epoch+1} epochs.')\n",
    "            break\n",
    "\n",
    "    # Calculate average validation loss and accuracy\n",
    "    val_loss = val_loss / len(val_loader.dataset)\n",
    "    val_accuracy = correct / total\n",
    "\n",
    "    # Print training and validation statistics\n",
    "    print(f\"Epoch {epoch+1}/{num_epochs}, \"\n",
    "          f\"Train Loss: {train_loss:.4f}, \"\n",
    "          f\"Val Loss: {val_loss:.4f}, \"\n",
    "          f\"Val Accuracy: {100 * val_accuracy:.2f}%\")\n",
    "    train_list.append(train_loss)\n",
    "    val_list.append(val_loss)"
   ]
  },
  {
   "cell_type": "code",
   "execution_count": null,
   "metadata": {},
   "outputs": [
    {
     "name": "stdout",
     "output_type": "stream",
     "text": [
      "Average Test Loss: 5.1441, Accuracy: 7.53%\n",
      "final_precision: 0.08, final_recall: 0.09, final_f1_score: 0.07815118134021759\n"
     ]
    }
   ],
   "source": [
    "# testing the model with the test data\n",
    "# Testing loop\n",
    "test_loss = 0.0\n",
    "correct = 0\n",
    "total = 0\n",
    "\n",
    "precision_metric = Precision(num_classes=num_classes, average='macro', task='multiclass')\n",
    "recall_metric = Recall(num_classes=num_classes, average='macro', task='multiclass')\n",
    "f1_score_metric = F1Score(num_classes=num_classes, average='macro', task='multiclass')\n",
    "\n",
    "with torch.no_grad():\n",
    "    for inputs, labels in test_loader:\n",
    "        inputs, labels = inputs.to(device), labels.to(device)\n",
    "        outputs = model(inputs)\n",
    "        loss = criterion(outputs, labels)\n",
    "        test_loss += loss.item()\n",
    "        _, predicted = torch.max(outputs.data, 1)\n",
    "        total += labels.size(0)\n",
    "        correct += (predicted == labels).sum().item()\n",
    "        precision_metric(predicted, labels)\n",
    "        recall_metric(predicted, labels)\n",
    "        f1_score_metric(predicted, labels)\n",
    "\n",
    "# Calculate average test loss and accuracy\n",
    "average_loss = test_loss / len(test_loader)\n",
    "accuracy = 100 * correct / total\n",
    "\n",
    "# Calculate the final metrics\n",
    "final_precision = precision_metric.compute()\n",
    "final_recall = recall_metric.compute()\n",
    "final_f1_score = f1_score_metric.compute()\n",
    "\n",
    "print(f'Average Test Loss: {average_loss:.4f}, Accuracy: {accuracy:.2f}%')\n",
    "print(f'final_precision: {final_precision:.2f}, final_recall: {final_recall:.2f}, final_f1_score: {final_f1_score}')"
   ]
  },
  {
   "cell_type": "code",
   "execution_count": null,
   "metadata": {},
   "outputs": [
    {
     "data": {
      "image/png": "[encoded data removed]",
      "text/plain": [
       "<Figure size 1000x500 with 1 Axes>"
      ]
     },
     "metadata": {},
     "output_type": "display_data"
    }
   ],
   "source": [
    "# Plotting both the training and validation loss\n",
    "plt.figure(figsize=(10, 5))\n",
    "plt.plot(5, train_loss, 'r', label='Training loss')\n",
    "plt.plot(5, val_loss, 'b', label='Validation loss')\n",
    "plt.title('Training and Validation Loss')\n",
    "plt.xlabel('Epochs')\n",
    "plt.ylabel('Loss')\n",
    "plt.legend()\n",
    "plt.show()"
   ]
  }
 ],
 "metadata": {
  "kernelspec": {
   "display_name": "Python 3",
   "language": "python",
   "name": "python3"
  },
  "language_info": {
   "codemirror_mode": {
    "name": "ipython",
    "version": 3
   },
   "file_extension": ".py",
   "mimetype": "text/x-python",
   "name": "python",
   "nbconvert_exporter": "python",
   "pygments_lexer": "ipython3",
   "version": "3.11.9"
  }
 },
 "nbformat": 4,
 "nbformat_minor": 2
}
