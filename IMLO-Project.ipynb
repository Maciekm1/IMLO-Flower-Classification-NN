{
 "cells": [
  {
   "cell_type": "code",
   "execution_count": 72,
   "id": "0696b774-2a3f-4fa3-bffd-fcb5d5a3f0cb",
   "metadata": {},
   "outputs": [],
   "source": [
    "import torch\n",
    "import torch.nn as nn\n",
    "import torch.nn.functional as F\n",
    "from torch.utils.data import DataLoader\n",
    "from torchvision import datasets, transforms\n",
    "from torchvision.utils import make_grid\n",
    "from torchvision.transforms import ToTensor, Resize, Compose, CenterCrop, ColorJitter, Normalize\n",
    "\n",
    "import numpy as np\n",
    "import pandas as pd\n",
    "from sklearn.metrics import confusion_matrix\n",
    "import matplotlib.pyplot as plt\n",
    "%matplotlib inline"
   ]
  },
  {
   "cell_type": "code",
   "execution_count": 73,
   "id": "a29e28fb-4b1c-4f2a-9fc1-525857dacc6c",
   "metadata": {},
   "outputs": [],
   "source": [
    "class ConvolutionalNetwork(nn.Module):\n",
    "    def __init__(self):\n",
    "        super().__init__()\n",
    "        self.conv1 = nn.Conv2d(3, 16, 3, 1, padding=1)\n",
    "        self.conv2 = nn.Conv2d(16, 32, 3, 1, padding=1)\n",
    "        self.fc1 = nn.Linear(32 * 28 * 28, 2048)\n",
    "        self.fc2 = nn.Linear(2048, 312)\n",
    "        self.fc3 = nn.Linear(312, 102)\n",
    "\n",
    "    def forward(self, X):\n",
    "        X = F.relu(self.conv1(X))\n",
    "        X = F.max_pool2d(X, 2, 2)\n",
    "        X = F.relu(self.conv2(X))\n",
    "        X = F.max_pool2d(X, 2, 2)\n",
    "\n",
    "        X = X.view(-1, 32 * 28 * 28)\n",
    "\n",
    "        X = F.relu(self.fc1(X))\n",
    "        X = F.relu(self.fc2(X))\n",
    "        X = self.fc3(X)\n",
    "\n",
    "        return X"
   ]
  },
  {
   "cell_type": "code",
   "execution_count": 74,
   "id": "bc11980e-bef0-4b1f-ba58-f194d7dce7d2",
   "metadata": {},
   "outputs": [
    {
     "name": "stdout",
     "output_type": "stream",
     "text": [
      "Mean: tensor([0.4330, 0.3819, 0.2964])\n",
      "Std: tensor([0.2555, 0.2056, 0.2175])\n"
     ]
    }
   ],
   "source": [
    "# Define a transform to resize the images and convert them to tensors\n",
    "transform = Compose([\n",
    "    Resize((128, 128)),\n",
    "    ToTensor()\n",
    "])\n",
    "\n",
    "# Load the dataset with the defined transform\n",
    "dataset = datasets.Flowers102(root=\"/Users/maciek/cnn_data\", split='train', download=True, transform=transform)\n",
    "loader = DataLoader(dataset, batch_size=64, shuffle=False)\n",
    "\n",
    "# Function to calculate mean and std\n",
    "def calculate_mean_std(loader):\n",
    "    mean = 0.\n",
    "    std = 0.\n",
    "    total_images_count = 0\n",
    "\n",
    "    for (images, _) in loader:\n",
    "        batch_samples = images.size(0)\n",
    "        images = images.view(batch_samples, images.size(1), -1)\n",
    "        mean += images.mean(2).sum(0)\n",
    "        std += images.std(2).sum(0)\n",
    "        total_images_count += batch_samples\n",
    "\n",
    "    mean /= total_images_count\n",
    "    std /= total_images_count\n",
    "\n",
    "    return mean, std\n",
    "\n",
    "# Calculate mean and std\n",
    "mean, std = calculate_mean_std(loader)\n",
    "print(f\"Mean: {mean}\")\n",
    "print(f\"Std: {std}\")"
   ]
  },
  {
   "cell_type": "code",
   "execution_count": 75,
   "id": "cc548b64-c1d1-4b81-8ec6-241aabbde96b",
   "metadata": {},
   "outputs": [],
   "source": [
    "transform = Compose([\n",
    "    Resize((128, 128)),  # Resize images to 256x256\n",
    "    CenterCrop(112),      # Center crop to 224x224 (after resize)\n",
    "    ToTensor(),           # Convert image to PyTorch tensor\n",
    "    Normalize(mean=[0.4330, 0.3819, 0.2964],  # Normalize\n",
    "                         std=[0.2555, 0.2056, 0.2175]),\n",
    "    ColorJitter(brightness=0.1, contrast=0.1,  # Color Jitter - light\n",
    "                           saturation=0.1, hue=0.1)\n",
    "])\n"
   ]
  },
  {
   "cell_type": "code",
   "execution_count": 76,
   "id": "7f0e0d30-1ab9-4e72-8ed9-9236f8093688",
   "metadata": {},
   "outputs": [],
   "source": [
    "    train_data = datasets.Flowers102(root=\"/Users/maciek/cnn_data\", split='train', download=True, transform=transform)\n",
    "    val_data = datasets.Flowers102(root=\"/Users/maciek/cnn_data\", split='val', download=True, transform=transform)\n",
    "    test_data = datasets.Flowers102(root=\"/Users/maciek/cnn_data\", split='test', download=True, transform=transform)"
   ]
  },
  {
   "cell_type": "code",
   "execution_count": 77,
   "id": "f06ab363-9521-4ec1-992d-9d196f085074",
   "metadata": {},
   "outputs": [],
   "source": [
    "    train_loader = DataLoader(train_data, batch_size=10, shuffle=True)\n",
    "    val_loader = DataLoader(val_data, batch_size=10, shuffle=False)\n",
    "    test_loader = DataLoader(test_data, batch_size=10, shuffle=False)"
   ]
  },
  {
   "cell_type": "code",
   "execution_count": 78,
   "id": "60706cd4-7f31-4d69-8b2d-679c54501bd7",
   "metadata": {},
   "outputs": [],
   "source": [
    "    model = ConvolutionalNetwork()"
   ]
  },
  {
   "cell_type": "code",
   "execution_count": 79,
   "id": "d5322608-41e1-472c-b013-180266b36f55",
   "metadata": {},
   "outputs": [],
   "source": [
    "    criterion = nn.CrossEntropyLoss()\n",
    "    optimizer = torch.optim.Adam(model.parameters(), lr=0.0001)"
   ]
  },
  {
   "cell_type": "code",
   "execution_count": 80,
   "id": "36507a06-1f69-4ab2-b15d-3d0e4301909f",
   "metadata": {},
   "outputs": [],
   "source": [
    "    device = torch.device(\"mps\" if torch.backends.mps.is_available() else \"cpu\")\n",
    "\n",
    "    model = model.to(device)\n",
    "    criterion = criterion.to(device)"
   ]
  },
  {
   "cell_type": "code",
   "execution_count": 81,
   "id": "af3f4f80-4164-4673-a2d7-ea2b1a801a77",
   "metadata": {},
   "outputs": [
    {
     "name": "stdout",
     "output_type": "stream",
     "text": [
      "Epoch: 0  Batch: 10  Loss: 4.5239691734313965\n",
      "Epoch: 0  Batch: 20  Loss: 4.746697902679443\n",
      "Epoch: 0  Batch: 30  Loss: 4.671882629394531\n",
      "Epoch: 0  Batch: 40  Loss: 4.648146629333496\n",
      "Epoch: 0  Batch: 50  Loss: 4.6242218017578125\n",
      "Epoch: 0  Batch: 60  Loss: 4.601174831390381\n",
      "Epoch: 0  Batch: 70  Loss: 4.625540733337402\n",
      "Epoch: 0  Batch: 80  Loss: 4.624518871307373\n",
      "Epoch: 0  Batch: 90  Loss: 4.634274482727051\n",
      "Epoch: 0  Batch: 100  Loss: 4.619232177734375\n",
      "Epoch: 1  Batch: 10  Loss: 4.620085716247559\n",
      "Epoch: 1  Batch: 20  Loss: 4.592809200286865\n",
      "Epoch: 1  Batch: 30  Loss: 4.63347053527832\n",
      "Epoch: 1  Batch: 40  Loss: 4.594542026519775\n",
      "Epoch: 1  Batch: 50  Loss: 4.617873668670654\n",
      "Epoch: 1  Batch: 60  Loss: 4.613368034362793\n",
      "Epoch: 1  Batch: 70  Loss: 4.486451148986816\n",
      "Epoch: 1  Batch: 80  Loss: 4.643640995025635\n",
      "Epoch: 1  Batch: 90  Loss: 4.5550689697265625\n",
      "Epoch: 1  Batch: 100  Loss: 4.490939140319824\n",
      "Epoch: 2  Batch: 10  Loss: 4.420812129974365\n",
      "Epoch: 2  Batch: 20  Loss: 4.462841987609863\n",
      "Epoch: 2  Batch: 30  Loss: 4.426709175109863\n",
      "Epoch: 2  Batch: 40  Loss: 4.568741798400879\n",
      "Epoch: 2  Batch: 50  Loss: 4.296108245849609\n",
      "Epoch: 2  Batch: 60  Loss: 4.471674919128418\n",
      "Epoch: 2  Batch: 70  Loss: 4.280651569366455\n",
      "Epoch: 2  Batch: 80  Loss: 4.150232791900635\n",
      "Epoch: 2  Batch: 90  Loss: 4.439330577850342\n",
      "Epoch: 2  Batch: 100  Loss: 3.9583117961883545\n",
      "Epoch: 3  Batch: 10  Loss: 4.035294532775879\n",
      "Epoch: 3  Batch: 20  Loss: 3.9872231483459473\n",
      "Epoch: 3  Batch: 30  Loss: 4.000242710113525\n",
      "Epoch: 3  Batch: 40  Loss: 3.934979200363159\n",
      "Epoch: 3  Batch: 50  Loss: 4.01995325088501\n",
      "Epoch: 3  Batch: 60  Loss: 3.5370559692382812\n",
      "Epoch: 3  Batch: 70  Loss: 3.596362352371216\n",
      "Epoch: 3  Batch: 80  Loss: 3.8176422119140625\n",
      "Epoch: 3  Batch: 90  Loss: 3.4611976146698\n",
      "Epoch: 3  Batch: 100  Loss: 3.625222682952881\n",
      "Epoch: 4  Batch: 10  Loss: 3.7582473754882812\n",
      "Epoch: 4  Batch: 20  Loss: 3.5471889972686768\n",
      "Epoch: 4  Batch: 30  Loss: 4.034930229187012\n",
      "Epoch: 4  Batch: 40  Loss: 3.554486036300659\n",
      "Epoch: 4  Batch: 50  Loss: 3.2212421894073486\n",
      "Epoch: 4  Batch: 60  Loss: 3.80320405960083\n",
      "Epoch: 4  Batch: 70  Loss: 3.118037462234497\n",
      "Epoch: 4  Batch: 80  Loss: 3.1776530742645264\n",
      "Epoch: 4  Batch: 90  Loss: 2.92508864402771\n",
      "Epoch: 4  Batch: 100  Loss: 3.215695858001709\n",
      "Epoch: 5  Batch: 10  Loss: 2.4407737255096436\n",
      "Epoch: 5  Batch: 20  Loss: 3.418574094772339\n",
      "Epoch: 5  Batch: 30  Loss: 2.6368203163146973\n",
      "Epoch: 5  Batch: 40  Loss: 3.017876148223877\n",
      "Epoch: 5  Batch: 50  Loss: 2.657479763031006\n",
      "Epoch: 5  Batch: 60  Loss: 3.1041388511657715\n",
      "Epoch: 5  Batch: 70  Loss: 2.8518950939178467\n",
      "Epoch: 5  Batch: 80  Loss: 3.412310838699341\n",
      "Epoch: 5  Batch: 90  Loss: 2.715613842010498\n",
      "Epoch: 5  Batch: 100  Loss: 3.330429792404175\n",
      "Epoch: 6  Batch: 10  Loss: 3.2604057788848877\n",
      "Epoch: 6  Batch: 20  Loss: 2.4970481395721436\n",
      "Epoch: 6  Batch: 30  Loss: 2.6163265705108643\n",
      "Epoch: 6  Batch: 40  Loss: 3.070621967315674\n",
      "Epoch: 6  Batch: 50  Loss: 2.333585262298584\n",
      "Epoch: 6  Batch: 60  Loss: 2.758401870727539\n",
      "Epoch: 6  Batch: 70  Loss: 2.069002628326416\n",
      "Epoch: 6  Batch: 80  Loss: 2.8474044799804688\n",
      "Epoch: 6  Batch: 90  Loss: 2.3281116485595703\n",
      "Epoch: 6  Batch: 100  Loss: 1.9049103260040283\n",
      "Epoch: 7  Batch: 10  Loss: 2.20849871635437\n",
      "Epoch: 7  Batch: 20  Loss: 1.9756996631622314\n",
      "Epoch: 7  Batch: 30  Loss: 2.22349214553833\n",
      "Epoch: 7  Batch: 40  Loss: 2.906869411468506\n",
      "Epoch: 7  Batch: 50  Loss: 1.6397556066513062\n",
      "Epoch: 7  Batch: 60  Loss: 1.6461178064346313\n",
      "Epoch: 7  Batch: 70  Loss: 1.848067045211792\n",
      "Epoch: 7  Batch: 80  Loss: 1.9040963649749756\n",
      "Epoch: 7  Batch: 90  Loss: 2.151512622833252\n",
      "Epoch: 7  Batch: 100  Loss: 2.490501880645752\n",
      "Epoch: 8  Batch: 10  Loss: 1.597010850906372\n",
      "Epoch: 8  Batch: 20  Loss: 1.5460219383239746\n",
      "Epoch: 8  Batch: 30  Loss: 1.5747730731964111\n",
      "Epoch: 8  Batch: 40  Loss: 1.431815505027771\n",
      "Epoch: 8  Batch: 50  Loss: 1.5206369161605835\n",
      "Epoch: 8  Batch: 60  Loss: 1.459477186203003\n",
      "Epoch: 8  Batch: 70  Loss: 1.8089202642440796\n",
      "Epoch: 8  Batch: 80  Loss: 0.9440587162971497\n",
      "Epoch: 8  Batch: 90  Loss: 1.8819290399551392\n",
      "Epoch: 8  Batch: 100  Loss: 1.5257638692855835\n",
      "Epoch: 9  Batch: 10  Loss: 1.376455307006836\n",
      "Epoch: 9  Batch: 20  Loss: 1.349226713180542\n",
      "Epoch: 9  Batch: 30  Loss: 1.6123530864715576\n",
      "Epoch: 9  Batch: 40  Loss: 1.4724640846252441\n",
      "Epoch: 9  Batch: 50  Loss: 0.7177248001098633\n",
      "Epoch: 9  Batch: 60  Loss: 1.9330883026123047\n",
      "Epoch: 9  Batch: 70  Loss: 0.9487307667732239\n",
      "Epoch: 9  Batch: 80  Loss: 1.4844865798950195\n",
      "Epoch: 9  Batch: 90  Loss: 0.73931485414505\n",
      "Epoch: 9  Batch: 100  Loss: 0.742928683757782\n",
      "Epoch: 10  Batch: 10  Loss: 0.9574381113052368\n",
      "Epoch: 10  Batch: 20  Loss: 1.0679734945297241\n",
      "Epoch: 10  Batch: 30  Loss: 0.6859737038612366\n",
      "Epoch: 10  Batch: 40  Loss: 0.8209825754165649\n",
      "Epoch: 10  Batch: 50  Loss: 0.8556221127510071\n",
      "Epoch: 10  Batch: 60  Loss: 0.5705410242080688\n",
      "Epoch: 10  Batch: 70  Loss: 0.7541493773460388\n",
      "Epoch: 10  Batch: 80  Loss: 1.0716590881347656\n",
      "Epoch: 10  Batch: 90  Loss: 0.8034841418266296\n",
      "Epoch: 10  Batch: 100  Loss: 0.6733645796775818\n",
      "Epoch: 11  Batch: 10  Loss: 0.43155187368392944\n",
      "Epoch: 11  Batch: 20  Loss: 0.27796149253845215\n",
      "Epoch: 11  Batch: 30  Loss: 0.18929295241832733\n",
      "Epoch: 11  Batch: 40  Loss: 0.43272361159324646\n",
      "Epoch: 11  Batch: 50  Loss: 0.4819389283657074\n",
      "Epoch: 11  Batch: 60  Loss: 0.5491679310798645\n",
      "Epoch: 11  Batch: 70  Loss: 0.6435775756835938\n",
      "Epoch: 11  Batch: 80  Loss: 0.548315167427063\n",
      "Epoch: 11  Batch: 90  Loss: 0.16110101342201233\n",
      "Epoch: 11  Batch: 100  Loss: 0.4770820736885071\n",
      "Epoch: 12  Batch: 10  Loss: 0.2690807282924652\n",
      "Epoch: 12  Batch: 20  Loss: 0.371968537569046\n",
      "Epoch: 12  Batch: 30  Loss: 0.2790621817111969\n",
      "Epoch: 12  Batch: 40  Loss: 0.5382034778594971\n",
      "Epoch: 12  Batch: 50  Loss: 0.4139857292175293\n",
      "Epoch: 12  Batch: 60  Loss: 0.23644647002220154\n",
      "Epoch: 12  Batch: 70  Loss: 0.19559943675994873\n",
      "Epoch: 12  Batch: 80  Loss: 0.11204586923122406\n",
      "Epoch: 12  Batch: 90  Loss: 0.3684961795806885\n",
      "Epoch: 12  Batch: 100  Loss: 0.32484883069992065\n",
      "Epoch: 13  Batch: 10  Loss: 0.2821711301803589\n",
      "Epoch: 13  Batch: 20  Loss: 0.27153143286705017\n",
      "Epoch: 13  Batch: 30  Loss: 0.3360420763492584\n",
      "Epoch: 13  Batch: 40  Loss: 0.18757280707359314\n",
      "Epoch: 13  Batch: 50  Loss: 0.38212835788726807\n",
      "Epoch: 13  Batch: 60  Loss: 0.06517619639635086\n",
      "Epoch: 13  Batch: 70  Loss: 0.3024824261665344\n",
      "Epoch: 13  Batch: 80  Loss: 0.08049359172582626\n",
      "Epoch: 13  Batch: 90  Loss: 0.25108402967453003\n",
      "Epoch: 13  Batch: 100  Loss: 0.2782362103462219\n",
      "Epoch: 14  Batch: 10  Loss: 0.18820635974407196\n",
      "Epoch: 14  Batch: 20  Loss: 0.3732127249240875\n",
      "Epoch: 14  Batch: 30  Loss: 0.26007527112960815\n",
      "Epoch: 14  Batch: 40  Loss: 0.3172730803489685\n",
      "Epoch: 14  Batch: 50  Loss: 0.02851504646241665\n",
      "Epoch: 14  Batch: 60  Loss: 0.1625833511352539\n",
      "Epoch: 14  Batch: 70  Loss: 0.11588690429925919\n",
      "Epoch: 14  Batch: 80  Loss: 0.1292809396982193\n",
      "Epoch: 14  Batch: 90  Loss: 0.2804504632949829\n",
      "Epoch: 14  Batch: 100  Loss: 0.14784662425518036\n",
      "Epoch: 15  Batch: 10  Loss: 0.12665697932243347\n",
      "Epoch: 15  Batch: 20  Loss: 0.21745380759239197\n",
      "Epoch: 15  Batch: 30  Loss: 0.13104315102100372\n",
      "Epoch: 15  Batch: 40  Loss: 0.4229471683502197\n",
      "Epoch: 15  Batch: 50  Loss: 0.5635281801223755\n",
      "Epoch: 15  Batch: 60  Loss: 0.21316830813884735\n",
      "Epoch: 15  Batch: 70  Loss: 0.18066048622131348\n",
      "Epoch: 15  Batch: 80  Loss: 0.19787676632404327\n",
      "Epoch: 15  Batch: 90  Loss: 0.07504961639642715\n",
      "Epoch: 15  Batch: 100  Loss: 0.12971219420433044\n",
      "Epoch: 16  Batch: 10  Loss: 0.22203746438026428\n",
      "Epoch: 16  Batch: 20  Loss: 0.12217690050601959\n",
      "Epoch: 16  Batch: 30  Loss: 0.11002632230520248\n",
      "Epoch: 16  Batch: 40  Loss: 0.016893919557332993\n",
      "Epoch: 16  Batch: 50  Loss: 0.16462811827659607\n",
      "Epoch: 16  Batch: 60  Loss: 0.034051358699798584\n",
      "Epoch: 16  Batch: 70  Loss: 0.03511764854192734\n",
      "Epoch: 16  Batch: 80  Loss: 0.1168285384774208\n",
      "Epoch: 16  Batch: 90  Loss: 0.05783369392156601\n",
      "Epoch: 16  Batch: 100  Loss: 0.07710824906826019\n",
      "Epoch: 17  Batch: 10  Loss: 0.04478606581687927\n",
      "Epoch: 17  Batch: 20  Loss: 0.032307323068380356\n",
      "Epoch: 17  Batch: 30  Loss: 0.02297981083393097\n",
      "Epoch: 17  Batch: 40  Loss: 0.11303885281085968\n",
      "Epoch: 17  Batch: 50  Loss: 0.06379850953817368\n",
      "Epoch: 17  Batch: 60  Loss: 0.05294455215334892\n",
      "Epoch: 17  Batch: 70  Loss: 0.10143711417913437\n",
      "Epoch: 17  Batch: 80  Loss: 0.07145799696445465\n",
      "Epoch: 17  Batch: 90  Loss: 0.15464109182357788\n",
      "Epoch: 17  Batch: 100  Loss: 0.06163762882351875\n",
      "Epoch: 18  Batch: 10  Loss: 0.05178782343864441\n",
      "Epoch: 18  Batch: 20  Loss: 0.1182345375418663\n",
      "Epoch: 18  Batch: 30  Loss: 0.02535308338701725\n",
      "Epoch: 18  Batch: 40  Loss: 0.6618446707725525\n",
      "Epoch: 18  Batch: 50  Loss: 0.0698317214846611\n",
      "Epoch: 18  Batch: 60  Loss: 0.036414630711078644\n",
      "Epoch: 18  Batch: 70  Loss: 0.11022528260946274\n",
      "Epoch: 18  Batch: 80  Loss: 0.031549207866191864\n",
      "Epoch: 18  Batch: 90  Loss: 0.09030479192733765\n",
      "Epoch: 18  Batch: 100  Loss: 0.05890945717692375\n",
      "Epoch: 19  Batch: 10  Loss: 0.024921294301748276\n",
      "Epoch: 19  Batch: 20  Loss: 0.16163793206214905\n",
      "Epoch: 19  Batch: 30  Loss: 0.013162272982299328\n",
      "Epoch: 19  Batch: 40  Loss: 0.03864821791648865\n",
      "Epoch: 19  Batch: 50  Loss: 0.025862831622362137\n",
      "Epoch: 19  Batch: 60  Loss: 0.008434797637164593\n",
      "Epoch: 19  Batch: 70  Loss: 0.022033322602510452\n",
      "Epoch: 19  Batch: 80  Loss: 0.026243235915899277\n",
      "Epoch: 19  Batch: 90  Loss: 0.04158593714237213\n",
      "Epoch: 19  Batch: 100  Loss: 0.008701403625309467\n",
      "Training Took: 3.140944532553355 minutes!\n"
     ]
    }
   ],
   "source": [
    "    import time\n",
    "\n",
    "    start_time = time.time()\n",
    "\n",
    "    # Create Variables To Tracks Things\n",
    "    epochs = 20\n",
    "    train_losses = []\n",
    "    test_losses = []\n",
    "    train_correct = []\n",
    "    test_correct = []\n",
    "\n",
    "    # For Loop of Epochs\n",
    "    for i in range(epochs):\n",
    "        trn_corr = 0\n",
    "        tst_corr = 0\n",
    "\n",
    "        # Train\n",
    "        for b, (X_train, y_train) in enumerate(train_loader, 1):\n",
    "            X_train, y_train = X_train.to(device), y_train.to(device)\n",
    "            y_pred = model(X_train)  # get predicted values from the training set. Not flattened 2D\n",
    "            loss = criterion(y_pred, y_train)  # how off are we? Compare the predictions to correct answers in y_train\n",
    "\n",
    "            predicted = torch.max(y_pred.data, 1)[\n",
    "                1]  # add up the number of correct predictions. Indexed off the first point\n",
    "            batch_corr = (\n",
    "                        predicted == y_train).sum()  # how many we got correct from this batch. True = 1, False=0, sum those up\n",
    "            trn_corr += batch_corr  # keep track as we go along in training.\n",
    "\n",
    "            # Update our parameters\n",
    "            optimizer.zero_grad()\n",
    "            loss.backward()\n",
    "            optimizer.step()\n",
    "\n",
    "            # Print out some results\n",
    "            if b % 10 == 0:\n",
    "                print(f'Epoch: {i}  Batch: {b}  Loss: {loss.item()}')\n",
    "\n",
    "        train_losses.append(loss)\n",
    "        train_correct.append(trn_corr)\n",
    "\n",
    "        # Test\n",
    "        with torch.no_grad():  # No gradient so we don't update our weights and biases with test data\n",
    "            for b, (X_test, y_test) in enumerate(val_loader):\n",
    "                X_test, y_test = X_test.to(device), y_test.to(device)\n",
    "                y_val = model(X_test)\n",
    "                predicted = torch.max(y_val.data, 1)[1]  # Adding up correct predictions\n",
    "                tst_corr += (predicted == y_test).sum()  # T=1 F=0 and sum away\n",
    "\n",
    "        loss = criterion(y_val, y_test)\n",
    "        test_losses.append(loss)\n",
    "        test_correct.append(tst_corr)\n",
    "\n",
    "    current_time = time.time()\n",
    "    total = current_time - start_time\n",
    "    print(f'Training Took: {total / 60} minutes!')"
   ]
  },
  {
   "cell_type": "code",
   "execution_count": 82,
   "id": "11f4db53-9da9-4fad-957e-30e9484eb591",
   "metadata": {},
   "outputs": [
    {
     "data": {
      "image/png": "[encoded data removed]",
      "text/plain": [
       "<Figure size 640x480 with 1 Axes>"
      ]
     },
     "metadata": {},
     "output_type": "display_data"
    }
   ],
   "source": [
    "# Convert GPU tensors to CPU tensors, detach them from the computation graph, and then to NumPy arrays\n",
    "train_losses = [tl.cpu().detach().numpy() for tl in train_losses]\n",
    "test_losses = [tl.cpu().detach().numpy() for tl in test_losses]\n",
    "\n",
    "# Now you can plot using matplotlib\n",
    "plt.plot(train_losses, label=\"Training Loss\")\n",
    "plt.plot(test_losses, label=\"Validation Loss\")\n",
    "plt.title(\"Loss at Epoch\")\n",
    "plt.legend()\n",
    "plt.show(block=True)"
   ]
  },
  {
   "cell_type": "code",
   "execution_count": 83,
   "id": "ba9bccc7-1a97-47cd-b655-fee0d561075d",
   "metadata": {},
   "outputs": [
    {
     "data": {
      "text/plain": [
       "Dataset Flowers102\n",
       "    Number of datapoints: 6149\n",
       "    Root location: /Users/maciek/cnn_data\n",
       "    split=test\n",
       "    StandardTransform\n",
       "Transform: Compose(\n",
       "               Resize(size=(128, 128), interpolation=bilinear, max_size=None, antialias=True)\n",
       "               CenterCrop(size=(112, 112))\n",
       "               ToTensor()\n",
       "               Normalize(mean=[0.433, 0.3819, 0.2964], std=[0.2555, 0.2056, 0.2175])\n",
       "               ColorJitter(brightness=(0.9, 1.1), contrast=(0.9, 1.1), saturation=(0.9, 1.1), hue=(-0.1, 0.1))\n",
       "           )"
      ]
     },
     "execution_count": 83,
     "metadata": {},
     "output_type": "execute_result"
    }
   ],
   "source": [
    "test_data"
   ]
  },
  {
   "cell_type": "code",
   "execution_count": 84,
   "id": "a8e67f15-ce74-4392-a3ab-a82aa16d6bfb",
   "metadata": {},
   "outputs": [
    {
     "data": {
      "text/plain": [
       "<matplotlib.legend.Legend at 0x1280bbb90>"
      ]
     },
     "execution_count": 84,
     "metadata": {},
     "output_type": "execute_result"
    },
    {
     "data": {
      "image/png": "[encoded data removed]",
      "text/plain": [
       "<Figure size 640x480 with 1 Axes>"
      ]
     },
     "metadata": {},
     "output_type": "display_data"
    }
   ],
   "source": [
    "plt.plot([t.cpu()/10 for t in train_correct], label=\"Training Accuracy\")\n",
    "plt.plot([t.cpu()/100 for t in test_correct], label=\"Validation Accuracy\")\n",
    "plt.title(\"Accuracy at the end of each Epoch\")\n",
    "plt.legend()"
   ]
  },
  {
   "cell_type": "code",
   "execution_count": 85,
   "id": "295a0d28-1495-4407-87f9-3d68b5a8744f",
   "metadata": {},
   "outputs": [],
   "source": [
    "test_load_everything = DataLoader(test_data, batch_size=6149, shuffle=False)"
   ]
  },
  {
   "cell_type": "code",
   "execution_count": 86,
   "id": "cc0f24e3-513d-423f-bbfb-cd959d8e9b24",
   "metadata": {},
   "outputs": [],
   "source": [
    "with torch.no_grad():\n",
    "    correct = 0\n",
    "    model.to('mps')  # Ensure the model is on the MPS device\n",
    "    for X_test, y_test in test_load_everything:\n",
    "        X_test = X_test.to('mps')  # Move X_test to MPS device\n",
    "        y_test = y_test.to('mps')  # Move y_test to MPS device as well\n",
    "        y_val = model(X_test)\n",
    "        predicted = torch.max(y_val, 1)[1]\n",
    "        correct += (predicted == y_test).sum()\n"
   ]
  },
  {
   "cell_type": "code",
   "execution_count": 87,
   "id": "a4b962de-1410-45f2-9fdc-72b5ecf0269d",
   "metadata": {},
   "outputs": [
    {
     "data": {
      "text/plain": [
       "torch.Size([6149, 3, 112, 112])"
      ]
     },
     "execution_count": 87,
     "metadata": {},
     "output_type": "execute_result"
    }
   ],
   "source": [
    "X_test.shape"
   ]
  },
  {
   "cell_type": "code",
   "execution_count": 88,
   "id": "9e6ce064-cf5a-4bf6-90df-0f6238e8e2de",
   "metadata": {},
   "outputs": [
    {
     "data": {
      "text/plain": [
       "13.693283460725322"
      ]
     },
     "execution_count": 88,
     "metadata": {},
     "output_type": "execute_result"
    }
   ],
   "source": [
    "correct.item()/len(test_data)*100"
   ]
  },
  {
   "cell_type": "code",
   "execution_count": null,
   "id": "6a92b348-432e-4645-9194-d8425dd6026e",
   "metadata": {},
   "outputs": [],
   "source": []
  }
 ],
 "metadata": {
  "kernelspec": {
   "display_name": "Python 3.11 (torch)",
   "language": "python",
   "name": "pytorch"
  },
  "language_info": {
   "codemirror_mode": {
    "name": "ipython",
    "version": 3
   },
   "file_extension": ".py",
   "mimetype": "text/x-python",
   "name": "python",
   "nbconvert_exporter": "python",
   "pygments_lexer": "ipython3",
   "version": "3.11.9"
  }
 },
 "nbformat": 4,
 "nbformat_minor": 5
}
