{
 "cells": [
  {
   "cell_type": "code",
   "execution_count": 24,
   "id": "0696b774-2a3f-4fa3-bffd-fcb5d5a3f0cb",
   "metadata": {},
   "outputs": [],
   "source": [
    "import torch\n",
    "import torch.nn as nn\n",
    "import torch.nn.functional as F\n",
    "from torch.utils.data import DataLoader\n",
    "from torchvision import datasets, transforms\n",
    "from torchvision.utils import make_grid\n",
    "from torchvision.transforms import *\n",
    "import numpy as np\n",
    "import pandas as pd\n",
    "from sklearn.metrics import confusion_matrix\n",
    "import matplotlib.pyplot as plt\n",
    "%matplotlib inline"
   ]
  },
  {
   "cell_type": "code",
   "execution_count": 25,
   "id": "a29e28fb-4b1c-4f2a-9fc1-525857dacc6c",
   "metadata": {},
   "outputs": [],
   "source": [
    "class ConvolutionalNetwork(nn.Module):\n",
    "    def __init__(self, dropout_rate=0.4):\n",
    "        super(ConvolutionalNetwork, self).__init__()\n",
    "        # Convolutional layers\n",
    "        self.conv1 = nn.Conv2d(3, 64, 3, padding=1)   # Increase filter numbers\n",
    "        self.conv2 = nn.Conv2d(64, 128, 3, padding=1)\n",
    "        self.conv3 = nn.Conv2d(128, 256, 3, padding=1)  # Additional conv layer\n",
    "        \n",
    "        # Fully connected layers\n",
    "        self.fc1 = nn.Linear(256 * 14 * 14, 2056)      # Increase size and complexity\n",
    "        self.fc2 = nn.Linear(2056, 1024)               # Additional fc layer\n",
    "        self.fc3 = nn.Linear(1024, 512)                # Additional fc layer\n",
    "        self.fc4 = nn.Linear(512, 102)                 # Output layer for 102 classes\n",
    "        \n",
    "        # Dropout layers\n",
    "        self.dropout = nn.Dropout(p=dropout_rate)\n",
    "\n",
    "    def forward(self, X):\n",
    "        # Add more layers with relu activation and max pooling\n",
    "        X = F.relu(self.conv1(X))\n",
    "        X = F.max_pool2d(X, 2, 2)\n",
    "        X = F.relu(self.conv2(X))\n",
    "        X = F.max_pool2d(X, 2, 2)\n",
    "        X = F.relu(self.conv3(X))\n",
    "        X = F.max_pool2d(X, 2, 2)\n",
    "\n",
    "        # Flatten the output for the fully connected layers\n",
    "        X = X.view(-1, 256 * 14 * 14)\n",
    "\n",
    "        # Apply relu activation and dropout to each fc layer\n",
    "        X = F.relu(self.fc1(X))\n",
    "        X = self.dropout(X)\n",
    "        X = F.relu(self.fc2(X))\n",
    "        X = self.dropout(X)\n",
    "        X = F.relu(self.fc3(X))\n",
    "        X = self.dropout(X)\n",
    "        X = self.fc4(X)  # No activation needed here as nn.CrossEntropyLoss will be applied\n",
    "\n",
    "        return X\n"
   ]
  },
  {
   "cell_type": "code",
   "execution_count": 26,
   "id": "d605bb22-8183-43fb-a084-06816eec7a85",
   "metadata": {},
   "outputs": [],
   "source": [
    "import copy\n",
    "from torchvision.transforms import ColorJitter, RandomVerticalFlip, RandomAffine, RandomPerspective, GaussianBlur\n",
    "\n",
    "def update_transform(epoch):\n",
    "    new_transform = copy.deepcopy(train_transform)\n",
    "    \n",
    "    # Basic transformations\n",
    "    if epoch > 10:\n",
    "        new_transform.transforms.insert(0, RandomVerticalFlip(p=0.5))\n",
    "        new_transform.transforms.insert(1, RandomRotation(degrees=15))  # Adjusted rotation\n",
    "    if epoch > 20:\n",
    "        new_transform.transforms[1] = RandomRotation(degrees=30)  # Gradual increase in rotation\n",
    "    \n",
    "    # Intermediate transformations\n",
    "    if epoch > 30:\n",
    "        new_transform.transforms.insert(3, ColorJitter(brightness=0.02, contrast=0.02))  # Gradual color jitter\n",
    "    if epoch > 40:\n",
    "        new_transform.transforms.insert(4, RandomAffine(degrees=0, translate=(0.02, 0.02)))  # Gradual affine\n",
    "    \n",
    "    # Advanced transformations\n",
    "    if epoch > 50:\n",
    "        new_transform.transforms.insert(5, RandomPerspective(distortion_scale=0.1, p=0.1))  # Gradual perspective\n",
    "    if epoch > 60:\n",
    "        new_transform.transforms.insert(6, GaussianBlur(kernel_size=(3, 5), sigma=(0.01, 1)))  # Gradual blur\n",
    "    \n",
    "    # Sharpness and saturation adjustments\n",
    "    if epoch > 70:\n",
    "        new_transform.transforms[3] = ColorJitter(brightness=0.05, contrast=0.05, saturation=0.05)  # Gradual adjustments\n",
    "    if epoch > 80:\n",
    "        new_transform.transforms[3] = ColorJitter(brightness=0.1, contrast=0.1, saturation=0.1, hue=0.01)  # Gradual adjustments\n",
    "    \n",
    "    # Scaling up color jitter\n",
    "    if epoch > 90:\n",
    "        new_transform.transforms[3] = ColorJitter(brightness=0.2, contrast=0.2, saturation=0.2, hue=0.02)  # Gradual adjustments\n",
    "    \n",
    "    return new_transform"
   ]
  },
  {
   "cell_type": "code",
   "execution_count": null,
   "id": "a088ed7b-e426-4271-ac54-74a744f4e811",
   "metadata": {},
   "outputs": [],
   "source": []
  },
  {
   "cell_type": "code",
   "execution_count": null,
   "id": "1b16a6bb-2140-496a-99a4-aa0a4535c558",
   "metadata": {},
   "outputs": [],
   "source": []
  },
  {
   "cell_type": "code",
   "execution_count": 27,
   "id": "bc11980e-bef0-4b1f-ba58-f194d7dce7d2",
   "metadata": {},
   "outputs": [
    {
     "name": "stdout",
     "output_type": "stream",
     "text": [
      "Mean: tensor([0.4330, 0.3819, 0.2964])\n",
      "Std: tensor([0.2555, 0.2056, 0.2175])\n"
     ]
    }
   ],
   "source": [
    "# Define a transform to resize the images and convert them to tensors\n",
    "transform = Compose([\n",
    "    Resize((128, 128)),\n",
    "    ToTensor()\n",
    "])\n",
    "\n",
    "# Load the dataset with the defined transform\n",
    "dataset = datasets.Flowers102(root=\"/Users/maciek/cnn_data\", split='train', download=True, transform=transform)\n",
    "loader = DataLoader(dataset, batch_size=10, shuffle=False)\n",
    "\n",
    "# Function to calculate mean and std\n",
    "def calculate_mean_std(loader):\n",
    "    mean = 0.\n",
    "    std = 0.\n",
    "    total_images_count = 0\n",
    "\n",
    "    for (images, _) in loader:\n",
    "        batch_samples = images.size(0)\n",
    "        images = images.view(batch_samples, images.size(1), -1)\n",
    "        mean += images.mean(2).sum(0)\n",
    "        std += images.std(2).sum(0)\n",
    "        total_images_count += batch_samples\n",
    "\n",
    "    mean /= total_images_count\n",
    "    std /= total_images_count\n",
    "\n",
    "    return mean, std\n",
    "\n",
    "# Calculate mean and std\n",
    "mean, std = calculate_mean_std(loader)\n",
    "print(f\"Mean: {mean}\")\n",
    "print(f\"Std: {std}\")"
   ]
  },
  {
   "cell_type": "code",
   "execution_count": 28,
   "id": "cc548b64-c1d1-4b81-8ec6-241aabbde96b",
   "metadata": {},
   "outputs": [],
   "source": [
    "train_transform = Compose([\n",
    "    Resize((128, 128)),\n",
    "    RandomResizedCrop(size=(112, 112), scale=(0.8, 1.0)),\n",
    "    ToTensor(),\n",
    "    Normalize(mean=[0.4330, 0.3819, 0.2964], std=[0.2555, 0.2056, 0.2175])\n",
    "])\n",
    "\n",
    "val_transform = Compose([\n",
    "    Resize((112, 112)),\n",
    "    ToTensor(),\n",
    "    Normalize(mean=[0.4330, 0.3819, 0.2964], std=[0.2555, 0.2056, 0.2175]),\n",
    "])\n",
    "\n",
    "test_transform = Compose([\n",
    "    Resize((112, 112)),\n",
    "    ToTensor(),\n",
    "    Normalize(mean=[0.4330, 0.3819, 0.2964], std=[0.2555, 0.2056, 0.2175]),\n",
    "])\n"
   ]
  },
  {
   "cell_type": "code",
   "execution_count": 29,
   "id": "7f0e0d30-1ab9-4e72-8ed9-9236f8093688",
   "metadata": {},
   "outputs": [],
   "source": [
    "    train_data = datasets.Flowers102(root=\"/Users/maciek/cnn_data\", split='train', download=True, transform=train_transform)\n",
    "    val_data = datasets.Flowers102(root=\"/Users/maciek/cnn_data\", split='val', download=True, transform=val_transform)\n",
    "    test_data = datasets.Flowers102(root=\"/Users/maciek/cnn_data\", split='test', download=True, transform=test_transform)"
   ]
  },
  {
   "cell_type": "code",
   "execution_count": 30,
   "id": "f06ab363-9521-4ec1-992d-9d196f085074",
   "metadata": {},
   "outputs": [],
   "source": [
    "    train_loader = DataLoader(train_data, batch_size=64, shuffle=True)\n",
    "    val_loader = DataLoader(val_data, batch_size=64, shuffle=False)\n",
    "    test_loader = DataLoader(test_data, batch_size=64, shuffle=False)"
   ]
  },
  {
   "cell_type": "code",
   "execution_count": 31,
   "id": "96f47b49-738d-45f7-ac3c-f70c9f408308",
   "metadata": {},
   "outputs": [],
   "source": [
    "for X, y in train_data:\n",
    "    break"
   ]
  },
  {
   "cell_type": "code",
   "execution_count": 32,
   "id": "d5ee05dd-32f4-4289-b41c-5ff9bbc2e28e",
   "metadata": {},
   "outputs": [
    {
     "data": {
      "text/plain": [
       "torch.Size([3, 112, 112])"
      ]
     },
     "execution_count": 32,
     "metadata": {},
     "output_type": "execute_result"
    }
   ],
   "source": [
    "X.shape"
   ]
  },
  {
   "cell_type": "code",
   "execution_count": 33,
   "id": "4ed232fb-0971-4dd4-9aa6-d2322dbca1cf",
   "metadata": {},
   "outputs": [
    {
     "data": {
      "image/png": "[encoded data removed]",
      "text/plain": [
       "<Figure size 640x480 with 1 Axes>"
      ]
     },
     "metadata": {},
     "output_type": "display_data"
    }
   ],
   "source": [
    "# Assuming X is your image tensor with shape (3, 112, 112)\n",
    "# Convert the PyTorch tensor to a NumPy array\n",
    "X_np = X.cpu().detach().numpy()\n",
    "\n",
    "# Transpose the array to (112, 112, 3) for Matplotlib\n",
    "X_visual = X_np.transpose(1, 2, 0)\n",
    "\n",
    "# Denormalize the image\n",
    "mean = np.array([0.4330, 0.3819, 0.2964])\n",
    "std = np.array([0.2555, 0.2056, 0.2175])\n",
    "X_visual = std * X_visual + mean  # This will now work as both are NumPy arrays\n",
    "X_visual = np.clip(X_visual, 0, 1)  # Ensure values are between 0 and 1\n",
    "\n",
    "# Visualize the image using Matplotlib\n",
    "plt.imshow(X_visual)\n",
    "plt.axis('off')  # Hide the axis\n",
    "plt.show()\n"
   ]
  },
  {
   "cell_type": "code",
   "execution_count": 34,
   "id": "60706cd4-7f31-4d69-8b2d-679c54501bd7",
   "metadata": {},
   "outputs": [],
   "source": [
    "    model = ConvolutionalNetwork()"
   ]
  },
  {
   "cell_type": "code",
   "execution_count": 35,
   "id": "d5322608-41e1-472c-b013-180266b36f55",
   "metadata": {},
   "outputs": [],
   "source": [
    "    criterion = nn.CrossEntropyLoss()\n",
    "    optimizer = torch.optim.Adam(model.parameters(), lr=0.0001, weight_decay=0.0001)"
   ]
  },
  {
   "cell_type": "code",
   "execution_count": 36,
   "id": "36507a06-1f69-4ab2-b15d-3d0e4301909f",
   "metadata": {},
   "outputs": [],
   "source": [
    "    device = torch.device(\"mps\" if torch.backends.mps.is_available() else \"cpu\")\n",
    "\n",
    "    model = model.to(device)\n",
    "    criterion = criterion.to(device)"
   ]
  },
  {
   "cell_type": "code",
   "execution_count": null,
   "id": "6b3e8ab9-3bb4-4ae1-a969-2cee8c495bdb",
   "metadata": {},
   "outputs": [
    {
     "name": "stdout",
     "output_type": "stream",
     "text": [
      "Epoch: 0 Validation Loss: 4.620760500431061\n",
      "Epoch: 1 Validation Loss: 4.5919189453125\n",
      "Epoch: 2 Validation Loss: 4.510910779237747\n",
      "Epoch: 3 Validation Loss: 4.438525214791298\n",
      "Epoch: 4 Validation Loss: 4.3531777411699295\n",
      "Epoch: 5 Validation Loss: 4.2619041204452515\n",
      "Epoch: 6 Validation Loss: 4.169379353523254\n",
      "Epoch: 7 Validation Loss: 4.152941331267357\n",
      "Epoch: 8 Validation Loss: 4.030285283923149\n",
      "Epoch: 9 Validation Loss: 3.993128314614296\n",
      "Epoch: 10 Validation Loss: 3.8909612745046616\n",
      "Epoch: 11 Validation Loss: 3.8681368231773376\n",
      "Epoch: 12 Validation Loss: 3.7706900984048843\n",
      "Epoch: 13 Validation Loss: 3.766022279858589\n",
      "Epoch: 14 Validation Loss: 3.7433116734027863\n",
      "Epoch: 15 Validation Loss: 3.7009797245264053\n",
      "Epoch: 16 Validation Loss: 3.6501529067754745\n",
      "Epoch: 17 Validation Loss: 3.6650662273168564\n",
      "Epoch: 18 Validation Loss: 3.6334057599306107\n",
      "Epoch: 19 Validation Loss: 3.6288410127162933\n",
      "Epoch: 20 Validation Loss: 3.5609224140644073\n",
      "Epoch: 21 Validation Loss: 3.6268606185913086\n",
      "Epoch: 22 Validation Loss: 3.5275639295578003\n",
      "Epoch: 23 Validation Loss: 3.535111740231514\n",
      "Epoch: 24 Validation Loss: 3.5097425431013107\n",
      "Epoch: 25 Validation Loss: 3.527041643857956\n",
      "Epoch: 26 Validation Loss: 3.5456839948892593\n",
      "Epoch: 27 Validation Loss: 3.4917326122522354\n"
     ]
    }
   ],
   "source": [
    "import time\n",
    "\n",
    "start_time = time.time()\n",
    "\n",
    "# Create Variables To Tracks Things\n",
    "epochs = 200\n",
    "train_losses = []\n",
    "test_losses = []\n",
    "train_correct = []\n",
    "test_correct = []\n",
    "\n",
    "# Early Stopping Parameters\n",
    "patience = 5  # How many epochs to wait after val loss has stopped improving\n",
    "min_val_loss = float('inf')  # Initialize to infinity\n",
    "stale_epochs = 0  # Counter for epochs without improvement\n",
    "\n",
    "# For Loop of Epochs\n",
    "for i in range(epochs):\n",
    "    trn_corr = 0\n",
    "    tst_corr = 0\n",
    "\n",
    "    # Update the train_loader with the new transformations\n",
    "    current_transform = update_transform(i)  # Get the updated transform for the current epoch\n",
    "    train_data.transform = current_transform  # Update the transform in the dataset\n",
    "    train_loader = DataLoader(train_data, batch_size=64, shuffle=True)  # Recreate the DataLoader with the updated dataset\n",
    "\n",
    "    # Train\n",
    "    for b, (X_train, y_train) in enumerate(train_loader, 1):\n",
    "        X_train, y_train = X_train.to(device), y_train.to(device)\n",
    "        y_pred = model(X_train)  # get predicted values from the training set. Not flattened 2D\n",
    "        loss = criterion(y_pred, y_train)  # how off are we? Compare the predictions to correct answers in y_train\n",
    "\n",
    "        predicted = torch.max(y_pred.data, 1)[\n",
    "            1]  # add up the number of correct predictions. Indexed off the first point\n",
    "        batch_corr = (predicted == y_train).sum()  # how many we got correct from this batch. True = 1, False=0, sum those up\n",
    "        trn_corr += batch_corr  # keep track as we go along in training.\n",
    "\n",
    "        # Update our parameters\n",
    "        optimizer.zero_grad()\n",
    "        loss.backward()\n",
    "        optimizer.step()\n",
    "\n",
    "            # Print out some results\n",
    "        if b % 64 == 0:\n",
    "            print(f'Epoch: {i}  Batch: {b}  Loss: {loss.item()}')\n",
    "\n",
    "    train_losses.append(loss)\n",
    "    train_correct.append(trn_corr)\n",
    "\n",
    "    # Test\n",
    "    with torch.no_grad():\n",
    "        val_loss = 0\n",
    "        for b, (X_test, y_test) in enumerate(val_loader):\n",
    "            X_test, y_test = X_test.to(device), y_test.to(device)\n",
    "            y_val = model(X_test)\n",
    "            predicted = torch.max(y_val.data, 1)[1]\n",
    "            tst_corr += (predicted == y_test).sum()\n",
    "            val_loss += criterion(y_val, y_test).item()  # Sum up the loss from each batch\n",
    "\n",
    "    avg_val_loss = val_loss / len(val_loader)  # Calculate the average loss\n",
    "    loss = criterion(y_val, y_test)\n",
    "\n",
    "    test_losses.append(loss)\n",
    "    test_correct.append(tst_corr)\n",
    "\n",
    "    # Early Stopping Check\n",
    "    if avg_val_loss < min_val_loss:\n",
    "        min_val_loss = avg_val_loss\n",
    "        stale_epochs = 0  # Reset the stale epochs counter\n",
    "    else:\n",
    "        stale_epochs += 1  # Increment the stale epochs counter\n",
    "        if stale_epochs >= patience:\n",
    "            print(f'Stopping early at epoch {i} due to overfitting.')\n",
    "            break  # Break out of the loop\n",
    "\n",
    "    print(f'Epoch: {i} Validation Loss: {avg_val_loss}')\n",
    "\n",
    "current_time = time.time()\n",
    "total = current_time - start_time\n",
    "print(f'Training Took: {total / 60} minutes!')\n"
   ]
  },
  {
   "cell_type": "code",
   "execution_count": null,
   "id": "11f4db53-9da9-4fad-957e-30e9484eb591",
   "metadata": {},
   "outputs": [],
   "source": [
    "# Convert GPU tensors to CPU tensors, detach them from the computation graph, and then to NumPy arrays\n",
    "train_losses = [tl.cpu().detach().numpy() for tl in train_losses]\n",
    "test_losses = [tl.cpu().detach().numpy() for tl in test_losses]\n",
    "\n",
    "# Now you can plot using matplotlib\n",
    "plt.plot(train_losses, label=\"Training Loss\")\n",
    "plt.plot(test_losses, label=\"Validation Loss\")\n",
    "plt.title(\"Loss at Epoch\")\n",
    "plt.legend()\n",
    "plt.show(block=True)"
   ]
  },
  {
   "cell_type": "code",
   "execution_count": null,
   "id": "ba9bccc7-1a97-47cd-b655-fee0d561075d",
   "metadata": {},
   "outputs": [],
   "source": [
    "test_data"
   ]
  },
  {
   "cell_type": "code",
   "execution_count": null,
   "id": "a8e67f15-ce74-4392-a3ab-a82aa16d6bfb",
   "metadata": {},
   "outputs": [],
   "source": [
    "plt.plot([t.cpu()/10 for t in train_correct], label=\"Training Accuracy\")\n",
    "plt.plot([t.cpu()/10 for t in test_correct], label=\"Validation Accuracy\")\n",
    "plt.title(\"Accuracy at the end of each Epoch\")\n",
    "plt.legend()"
   ]
  },
  {
   "cell_type": "code",
   "execution_count": null,
   "id": "295a0d28-1495-4407-87f9-3d68b5a8744f",
   "metadata": {},
   "outputs": [],
   "source": [
    "#test_load_everything = DataLoader(test_data, batch_size=6149, shuffle=False)"
   ]
  },
  {
   "cell_type": "code",
   "execution_count": null,
   "id": "236ed056-ba58-495e-9dd0-d57cc2316e1d",
   "metadata": {
    "scrolled": true
   },
   "outputs": [],
   "source": [
    "from torch.utils.data import DataLoader\n",
    "\n",
    "# Use a smaller batch size\n",
    "test_load_everything = DataLoader(test_data, batch_size=1024, shuffle=False)\n",
    "\n",
    "correct = 0\n",
    "total = 0\n",
    "with torch.no_grad():\n",
    "    for X_test, y_test in test_load_everything:\n",
    "        X_test, y_test = X_test.to('mps'), y_test.to('mps')\n",
    "        y_val = model(X_test)\n",
    "        predicted = torch.max(y_val, 1)[1]\n",
    "        correct += (predicted == y_test).sum().item()\n",
    "        total += y_test.size(0)\n",
    "\n",
    "# Calculate accuracy\n",
    "accuracy = correct / total\n",
    "print(f'Accuracy of the model on the test set: {accuracy * 100:.2f}%')"
   ]
  },
  {
   "cell_type": "code",
   "execution_count": null,
   "id": "cc0f24e3-513d-423f-bbfb-cd959d8e9b24",
   "metadata": {},
   "outputs": [],
   "source": [
    "#with torch.no_grad():\n",
    "    #correct = 0\n",
    "    #model.to('mps')  # Ensure the model is on the MPS device\n",
    "    #for X_test, y_test in test_load_everything:\n",
    "        #X_test = X_test.to('mps')  # Move X_test to MPS device\n",
    "        #y_test = y_test.to('mps')  # Move y_test to MPS device as well\n",
    "        #y_val = model(X_test)\n",
    "        #predicted = torch.max(y_val, 1)[1]\n",
    "        #correct += (predicted == y_test).sum()\n"
   ]
  },
  {
   "cell_type": "code",
   "execution_count": null,
   "id": "a4b962de-1410-45f2-9fdc-72b5ecf0269d",
   "metadata": {},
   "outputs": [],
   "source": [
    "#X_test.shape"
   ]
  },
  {
   "cell_type": "code",
   "execution_count": null,
   "id": "9e6ce064-cf5a-4bf6-90df-0f6238e8e2de",
   "metadata": {},
   "outputs": [],
   "source": [
    "#correct.item()/len(test_data)*100"
   ]
  },
  {
   "cell_type": "code",
   "execution_count": null,
   "id": "6a92b348-432e-4645-9194-d8425dd6026e",
   "metadata": {},
   "outputs": [],
   "source": [
    "# Assuming you have a trained model called 'model'\n",
    "#torch.save(model.state_dict(), 'model_weights.pth')"
   ]
  }
 ],
 "metadata": {
  "kernelspec": {
   "display_name": "Python 3.11 (torch)",
   "language": "python",
   "name": "pytorch"
  },
  "language_info": {
   "codemirror_mode": {
    "name": "ipython",
    "version": 3
   },
   "file_extension": ".py",
   "mimetype": "text/x-python",
   "name": "python",
   "nbconvert_exporter": "python",
   "pygments_lexer": "ipython3",
   "version": "3.11.9"
  }
 },
 "nbformat": 4,
 "nbformat_minor": 5
}
